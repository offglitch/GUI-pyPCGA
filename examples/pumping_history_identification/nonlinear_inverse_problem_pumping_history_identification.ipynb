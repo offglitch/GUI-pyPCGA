{
 "cells": [
  {
   "cell_type": "markdown",
   "metadata": {},
   "source": [
    "# pyPCGA tutorial example - pumping history identification"
   ]
  },
  {
   "cell_type": "markdown",
   "metadata": {},
   "source": [
    "## (2) nonlinear (quasi-linear) inversion example (from Stanford 362G course)"
   ]
  },
  {
   "cell_type": "markdown",
   "metadata": {},
   "source": [
    "### Please read the problem description in [(1) linear inversion example](./linear_inverse_problem_pumping_history_identification.ipynb)"
   ]
  },
  {
   "cell_type": "markdown",
   "metadata": {},
   "source": [
    "+ Now we get to know that the unknown pumping rate cannot be **negative**: the owner of the well at (0,0) extracts groundwater when (s)he needs with no injection.\n",
    "+ This prior information/constraint can be incorporated in the inversion by various methods. \n",
    "+ Our implementation here is to use log-transformation in order to enforce the nonnegativity constraint.\n",
    "+ In other words, instead of the unknown pumping rate, q, we will work with $s = \\ln(q)$."
   ]
  },
  {
   "cell_type": "markdown",
   "metadata": {},
   "source": [
    "---\n",
    "\n",
    "$$ y = H \\exp(s) $$\n",
    "\n",
    "where $y$ is n by 1 drawdowns at the montoring well, \n",
    "\n",
    "$H$ is a m by m matrix/linear operator, \n",
    "\n",
    "$s$ is a m by 1 vector for the log-transformed pumping rates\n",
    "\n",
    "\n",
    "---"
   ]
  },
  {
   "cell_type": "markdown",
   "metadata": {},
   "source": [
    "### Test enviroment information"
   ]
  },
  {
   "cell_type": "code",
   "execution_count": 1,
   "metadata": {},
   "outputs": [
    {
     "name": "stdout",
     "output_type": "stream",
     "text": [
      "3.6.4 |Anaconda custom (64-bit)| (default, Jan 16 2018, 10:22:32) [MSC v.1900 64 bit (AMD64)]\n"
     ]
    }
   ],
   "source": [
    "import sys\n",
    "print(sys.version)"
   ]
  },
  {
   "cell_type": "code",
   "execution_count": 2,
   "metadata": {
    "scrolled": true
   },
   "outputs": [
    {
     "name": "stdout",
     "output_type": "stream",
     "text": [
      "Windows-10-10.0.17134-SP0\n"
     ]
    }
   ],
   "source": [
    "import platform\n",
    "print(platform.platform())\n"
   ]
  },
  {
   "cell_type": "code",
   "execution_count": 3,
   "metadata": {},
   "outputs": [
    {
     "name": "stdout",
     "output_type": "stream",
     "text": [
      "1.14.0\n"
     ]
    }
   ],
   "source": [
    "import numpy as np\n",
    "print(np.__version__)"
   ]
  },
  {
   "cell_type": "code",
   "execution_count": 4,
   "metadata": {},
   "outputs": [],
   "source": [
    "import matplotlib.pyplot as plt\n",
    "import drawdown as dd # our forward model interface\n",
    "from pyPCGA import PCGA # PCGA ver0.1\n",
    "import math"
   ]
  },
  {
   "cell_type": "markdown",
   "metadata": {},
   "source": [
    "pyPCGA parameters (see [PCGA_parameters.docx](https://github.com/jonghyunharrylee/pyPCGA/blob/master/PCGA_parameters_06212018.docx) for details) \n",
    "\n",
    "Note that prior parameters (prior_std and prior_cov_scale) and measurement/model uncertainty (R) were estimated using a model validation approach [Kitanidis, 2007]\n",
    "\n",
    "|Description           |                      |   Value | \n",
    "| ---------------------|----------------------|---------|\n",
    "|*Geostatistical parameters*     ||                     |\n",
    "| prior_std            | (Bayesian) prior uncertainty/standard deviation | 1.0 [$m^3$/min]|\n",
    "| prior_cov_scale      | Prior scale/correlation length                        | 100 m |\n",
    "| kernel        | Covariance kernel q(x,x') | q(x,x') = $1.0^2 \\exp\\left(-|x-x'|/100\\right)$|\n",
    "| m                    | Number of unknowns (unknown pumping history over time) | 10,001 |\n",
    "| matvec               | Fast covariance matrix-vector multiplication method | FFT (will support Hmatrix/FMM in ver 0.2)| \n",
    "| N                    | Array of grid numbers in each direction ([nx,ny,nz], for structured grid/FFT)  | [10,001] (1D) |\n",
    "| xmin, xmax           | Array of min and max coordinates in each direction (for structured grid/FFT)  | [0], [1000] (1D) |\n",
    "| pts                  | Coordinates for unknowns (optional, used for Hmatrix and FMM) | [0, 0.1. 0.2, ..., 999.9 1000 ] |\n",
    "| post_cov             | Posterior uncertainty (variance/covaraiance, currently support posterior variance)      | diag |\n",
    "|*Measurement parameters* ||  |\n",
    "| nobs | Number of measurement | 100 |\n",
    "| R | Variance of measurement error (and model uncertainty) (m) | 0.02^2 |\n",
    "|*Inversion parameters* || |\n",
    "| maxiter | Maximum iteration number | 10|\n",
    "| restol | Tolerance (relative norm differnce) for stopping criteria | 0.01|\n",
    "| parallel | Use parallelization for inversion | True|\n",
    "| ncores | number of cores if parallel == True | None (if not defined, use all the physcial cores you have)|\n",
    "|precond | Use preconditioner | True |\n",
    "|LM | Use Levenberg-Marquardt |  True|\n",
    "| linesearch | Use linearseach | True|\n",
    "| verbose | Inversion message |  False|\n",
    "| forward_model_verbose | user-define forward model message |  False|\n",
    "| iter_save | Save intermediate solutions | True |\n",
    "\n",
    "\n"
   ]
  },
  {
   "cell_type": "markdown",
   "metadata": {},
   "source": [
    "+ Model domain and discretization"
   ]
  },
  {
   "cell_type": "code",
   "execution_count": 5,
   "metadata": {},
   "outputs": [],
   "source": [
    "# model domain and discretization\n",
    "m = 10001 # number of unknowns (unknown pumping rates over the time) \n",
    "N = np.array([m]) # discretization grids in each direction [nx,ny,nz] m = nx*ny*nz; for this 1D case, N = nx = [m]\n",
    "xmin = np.array([0]) # min x, y, z;  for this 1D case, min(x) = min(t)\n",
    "xmax = np.array([1000]) # max x, y, z; for this 1D case, max(x) = max(t)"
   ]
  },
  {
   "cell_type": "markdown",
   "metadata": {},
   "source": [
    "+ Covariance kernel and scale parameters"
   ]
  },
  {
   "cell_type": "code",
   "execution_count": 6,
   "metadata": {},
   "outputs": [],
   "source": [
    "# covairance kernel and scale parameters\n",
    "# now that we have different estimation variable (log-transformed extraction rate), these prior parameters should be redefined\n",
    "prior_std = 1.0\n",
    "prior_cov_scale = np.array([100.0])\n",
    "\n",
    "def kernel(r): return (prior_std ** 2) * np.exp(-r)"
   ]
  },
  {
   "cell_type": "markdown",
   "metadata": {},
   "source": [
    "+ Load \"true\" pumping history"
   ]
  },
  {
   "cell_type": "code",
   "execution_count": 7,
   "metadata": {},
   "outputs": [],
   "source": [
    "s_true = np.loadtxt('true.txt') "
   ]
  },
  {
   "cell_type": "code",
   "execution_count": 8,
   "metadata": {},
   "outputs": [
    {
     "data": {
      "text/plain": [
       "Text(0,0.5,'s ($m^3$/min)')"
      ]
     },
     "execution_count": 8,
     "metadata": {},
     "output_type": "execute_result"
    },
    {
     "data": {
      "image/png": "[encoded data removed]",
      "text/plain": [
       "<matplotlib.figure.Figure at 0x12a93d656a0>"
      ]
     },
     "metadata": {},
     "output_type": "display_data"
    }
   ],
   "source": [
    "# for plotting\n",
    "x = np.linspace(xmin, xmax, m)\n",
    "pts = np.copy(x)\n",
    "\n",
    "plt.plot(x,s_true,'r-',label='true')\n",
    "plt.title('True pumping history at (0,0)')\n",
    "plt.xlabel('time (min)')\n",
    "plt.ylabel(r's ($m^3$/min)')"
   ]
  },
  {
   "cell_type": "markdown",
   "metadata": {},
   "source": [
    "+ Load 100 noisy observations recorded at every 10 mins (see drawdown.py)\n",
    "```python\n",
    "obs = np.dot(H,s_true) + 0.01*np.random.randn(m,1)\n",
    "```"
   ]
  },
  {
   "cell_type": "code",
   "execution_count": 9,
   "metadata": {},
   "outputs": [],
   "source": [
    "obs = np.loadtxt('obs.txt')"
   ]
  },
  {
   "cell_type": "markdown",
   "metadata": {},
   "source": [
    "+ Define a wrapper for a black-box forward model input in pyPCGA \n",
    "\n",
    "##### 1. Note that one should follow this wrapper format to work with pyPCGA \n",
    "##### 2. If parallelization == True, it should take multiple columns of s and run the forward problem independently in parallel\n",
    "##### 3. Please see drawdown.py as a template for inplementation"
   ]
  },
  {
   "cell_type": "code",
   "execution_count": 10,
   "metadata": {},
   "outputs": [],
   "source": [
    "# forward model wrapper for pyPCGA\n",
    "def forward_model(s, parallelization, ncores=None):\n",
    "    params = {'log':True} # y = np.dot(H,np.exp(s)); see drawdown.py \n",
    "    model = dd.Model(params)\n",
    "\n",
    "    if parallelization:\n",
    "        simul_obs = model.run(s, parallelization, ncores)\n",
    "    else:\n",
    "        simul_obs = model.run(s, parallelization)\n",
    "    return simul_obs"
   ]
  },
  {
   "cell_type": "markdown",
   "metadata": {},
   "source": [
    "+ Inversion parameters "
   ]
  },
  {
   "cell_type": "code",
   "execution_count": 11,
   "metadata": {},
   "outputs": [],
   "source": [
    "params = {'R': (0.02) ** 2, 'n_pc': 100,\n",
    "        'maxiter': 10, 'restol': 0.01,\n",
    "        'matvec': 'FFT', 'xmin': xmin, 'xmax': xmax, 'N': N,\n",
    "        'prior_std': prior_std, 'prior_cov_scale': prior_cov_scale,\n",
    "        'kernel': kernel, 'post_cov': \"diag\",\n",
    "        'precond': True, 'LM': True,\n",
    "        'parallel': True, 'linesearch': True,\n",
    "        'forward_model_verbose': False, 'verbose': False,\n",
    "        'iter_save': True}\n",
    "\n",
    "# params['objeval'] = False, if true, it will compute accurate objective function\n",
    "# params['ncores'] = 4, with parallell True, it will determine maximum physcial core unless specified"
   ]
  },
  {
   "cell_type": "markdown",
   "metadata": {},
   "source": [
    "+ Initial guess"
   ]
  },
  {
   "cell_type": "code",
   "execution_count": 12,
   "metadata": {},
   "outputs": [],
   "source": [
    "s_init = -1. * np.ones((m, 1)) # or any initial guess you want "
   ]
  },
  {
   "cell_type": "markdown",
   "metadata": {},
   "source": [
    "## Inversion"
   ]
  },
  {
   "cell_type": "markdown",
   "metadata": {},
   "source": [
    "+ Initialize pyPCGA"
   ]
  },
  {
   "cell_type": "code",
   "execution_count": 13,
   "metadata": {},
   "outputs": [
    {
     "name": "stdout",
     "output_type": "stream",
     "text": [
      "##### PCGA Inversion #####\n",
      "##### 1. Initialize forward and inversion parameters\n",
      "------------ Inversion Parameters -------------------------\n",
      "   Number of unknowns                               : 10001\n",
      "   Number of observations                           : 100\n",
      "   Number of principal components (n_pc)            : 100\n",
      "   Prior model                                      : def kernel(r): return (prior_std ** 2) * np.exp(-r)\n",
      "\n",
      "   Prior variance                                   : 1.000000e+00\n",
      "   Prior scale (correlation) parameter              : [100.]\n",
      "   Posterior cov computation                        : diag\n",
      "   Posterior variance computation                   : Direct\n",
      "   Number of CPU cores (n_core)                     : 4\n",
      "   Maximum GN iterations                            : 10\n",
      "   machine precision (delta = sqrt(precision))      : 1.000000e-08\n",
      "   Tol for iterations (norm(sol_diff)/norm(sol))    : 1.000000e-02\n",
      "   Levenberg-Marquardt (LM)                         : True\n",
      "   LM solution range constraints (LM_smin, LM_smax) : None, None\n",
      "   Line search                                      : True\n",
      "-----------------------------------------------------------\n"
     ]
    }
   ],
   "source": [
    "prob = PCGA(forward_model, s_init, pts, params, s_true, obs)"
   ]
  },
  {
   "cell_type": "markdown",
   "metadata": {},
   "source": [
    "+ Run pyPCGA"
   ]
  },
  {
   "cell_type": "code",
   "execution_count": 14,
   "metadata": {},
   "outputs": [
    {
     "name": "stdout",
     "output_type": "stream",
     "text": [
      "##### 2. Construct Prior Covariance Matrix\n",
      "- time for covariance matrix construction (m = 10001) is 0 sec\n",
      "##### 3. Eigendecomposition of Prior Covariance\n",
      "- time for eigendecomposition with k = 100 is 1 sec\n",
      "- 1st eigv : 1870.85, 100-th eigv : 2.06516, ratio: 0.00110386\n",
      "##### 4. Start PCGA Inversion #####\n",
      "-- evaluate initial solution\n",
      "obs. RMSE (norm(obs. diff.)/sqrt(nobs)): 6.96206, normalized obs. RMSE (norm(obs. diff./sqrtR)/sqrt(nobs)): 348.103\n",
      "***** Iteration 1 ******\n",
      "computed Jacobian-Matrix products in 0.907606 secs\n",
      "solve saddle point (co-kriging) systems with Levenberg-Marquardt\n",
      "evaluate LM solutions\n",
      "LM solution evaluted\n",
      "- Geostat. inversion at iteration 1 is 2 sec\n",
      "== iteration 1 summary ==\n",
      "= objective function is 7.429391e+05, relative L2-norm diff btw sol 0 and sol 1 is 0.920778\n",
      "= L2-norm error (w.r.t truth) is 3169.54, obs. RMSE is 2.43793, obs. normalized RMSE is 121.897\n",
      "- save results in text at iteration 1\n",
      "***** Iteration 2 ******\n",
      "computed Jacobian-Matrix products in 1.278379 secs\n",
      "solve saddle point (co-kriging) systems with Levenberg-Marquardt\n",
      "evaluate LM solutions\n",
      "LM solution evaluted\n",
      "- Geostat. inversion at iteration 2 is 2 sec\n",
      "== iteration 2 summary ==\n",
      "= objective function is 8.636817e+04, relative L2-norm diff btw sol 1 and sol 2 is 0.449779\n",
      "= L2-norm error (w.r.t truth) is 4540.57, obs. RMSE is 0.831226, obs. normalized RMSE is 41.5613\n",
      "- save results in text at iteration 2\n",
      "***** Iteration 3 ******\n",
      "computed Jacobian-Matrix products in 0.874665 secs\n",
      "solve saddle point (co-kriging) systems with Levenberg-Marquardt\n",
      "evaluate LM solutions\n",
      "LM solution evaluted\n",
      "- Geostat. inversion at iteration 3 is 2 sec\n",
      "== iteration 3 summary ==\n",
      "= objective function is 1.071176e+04, relative L2-norm diff btw sol 2 and sol 3 is 0.300593\n",
      "= L2-norm error (w.r.t truth) is 5821.28, obs. RMSE is 0.292664, obs. normalized RMSE is 14.6332\n",
      "- save results in text at iteration 3\n",
      "***** Iteration 4 ******\n",
      "computed Jacobian-Matrix products in 0.935491 secs\n",
      "solve saddle point (co-kriging) systems with Levenberg-Marquardt\n",
      "evaluate LM solutions\n",
      "LM solution evaluted\n",
      "- Geostat. inversion at iteration 4 is 2 sec\n",
      "== iteration 4 summary ==\n",
      "= objective function is 1.523626e+03, relative L2-norm diff btw sol 3 and sol 4 is 0.23329\n",
      "= L2-norm error (w.r.t truth) is 7094.83, obs. RMSE is 0.109762, obs. normalized RMSE is 5.48808\n",
      "- save results in text at iteration 4\n",
      "***** Iteration 5 ******\n",
      "computed Jacobian-Matrix products in 1.031276 secs\n",
      "solve saddle point (co-kriging) systems with Levenberg-Marquardt\n",
      "evaluate LM solutions\n",
      "LM solution evaluted\n",
      "- Geostat. inversion at iteration 5 is 2 sec\n",
      "== iteration 5 summary ==\n",
      "= objective function is 2.774496e+02, relative L2-norm diff btw sol 4 and sol 5 is 0.193365\n",
      "= L2-norm error (w.r.t truth) is 8401.71, obs. RMSE is 0.0428489, obs. normalized RMSE is 2.14244\n",
      "- save results in text at iteration 5\n",
      "***** Iteration 6 ******\n",
      "computed Jacobian-Matrix products in 1.243791 secs\n",
      "solve saddle point (co-kriging) systems with Levenberg-Marquardt\n",
      "evaluate LM solutions\n",
      "LM solution evaluted\n",
      "- Geostat. inversion at iteration 6 is 2 sec\n",
      "== iteration 6 summary ==\n",
      "= objective function is 1.086289e+02, relative L2-norm diff btw sol 5 and sol 6 is 0.158996\n",
      "= L2-norm error (w.r.t truth) is 9675.47, obs. RMSE is 0.0200997, obs. normalized RMSE is 1.00499\n",
      "- save results in text at iteration 6\n",
      "***** Iteration 7 ******\n",
      "computed Jacobian-Matrix products in 0.878650 secs\n",
      "solve saddle point (co-kriging) systems with Levenberg-Marquardt\n",
      "evaluate LM solutions\n",
      "LM solution evaluted\n",
      "- Geostat. inversion at iteration 7 is 2 sec\n",
      "== iteration 7 summary ==\n",
      "= objective function is 9.614678e+01, relative L2-norm diff btw sol 6 and sol 7 is 0.113018\n",
      "= L2-norm error (w.r.t truth) is 10658.3, obs. RMSE is 0.0164702, obs. normalized RMSE is 0.823511\n",
      "- save results in text at iteration 7\n",
      "***** Iteration 8 ******\n",
      "computed Jacobian-Matrix products in 0.831777 secs\n",
      "solve saddle point (co-kriging) systems with Levenberg-Marquardt\n",
      "evaluate LM solutions\n",
      "LM solution evaluted\n",
      "- Geostat. inversion at iteration 8 is 2 sec\n",
      "perform simple linesearch due to no progress in obj value\n",
      "evaluate linesearch solutions\n",
      "no progress in obj value\n",
      "start direct posterior variance computation - this option works for O(nobs) ~ 100\n",
      "0-th element evaluated\n",
      "1000-th element evaluated\n",
      "2000-th element evaluated\n",
      "3000-th element evaluated\n",
      "4000-th element evaluated\n",
      "5000-th element evaluated\n",
      "6000-th element evaluated\n",
      "7000-th element evaluated\n",
      "8000-th element evaluated\n",
      "9000-th element evaluated\n",
      "10000-th element evaluated\n",
      "posterior diag. computed in 1.767275 secs\n",
      "------------ Inversion Summary ---------------------------\n",
      "** Found solution at iteration 7\n",
      "** Solution obs. RMSE 0.0164702 , initial obs. RMSE 6.96206, where RMSE = (norm(obs. diff.)/sqrt(nobs)), Solution obs. nRMSE 0.823511, init. obs. nRMSE 348.103\n",
      "** Final objective function value is 9.614678e+01\n",
      "** Final predictive model checking Q2, cR is 1.848851e+00, 3.328451e-03\n",
      "** Total elapsed time is 22.825062 secs\n",
      "----------------------------------------------------------\n"
     ]
    }
   ],
   "source": [
    "# run inversion\n",
    "s_hat, simul_obs, post_diagv, iter_best = prob.Run()"
   ]
  },
  {
   "cell_type": "markdown",
   "metadata": {},
   "source": [
    "### Yes, this is so simple! You only need 2 lines of code (initialization, run) for inversion\n",
    "\n",
    "Log-transformation of unknown pumping rates makes the problem nonlinear and this requires several iterations. But we don't need to worry about negative extraction (injection) in our solution and the non-negativity constraint reflecting our confident prior knowledge results in a better fitting (observation matching) as below in Figure 2 (compared to [the linear inversion result](./linear_inverse_problem_pumping_history_identification.ipynb#Results)). \n",
    "\n",
    "However, this kind of transformation may lead to highly non-symmetric pdf in the original/untransformed space. For example, even though we would think the uncertainty of the estimated pumping rates over the time should be of the same magnitude as we observed in [the linear problem](./linear_inverse_problem_pumping_history_identification.ipynb#Results), the Bayesian credible interval becomes narrow for low values and wide for high values due to the log-transformation as below in Figure 1. "
   ]
  },
  {
   "cell_type": "markdown",
   "metadata": {},
   "source": [
    "## Results\n",
    "\n",
    "- Plot the best (mean) estimate and its uncertainty interval"
   ]
  },
  {
   "cell_type": "code",
   "execution_count": 15,
   "metadata": {},
   "outputs": [
    {
     "data": {
      "text/plain": [
       "Text(0.5,1,'Figure 1: Estimate with Bayesian credible interval')"
      ]
     },
     "execution_count": 15,
     "metadata": {},
     "output_type": "execute_result"
    },
    {
     "data": {
      "image/png": "[encoded data removed]",
      "text/plain": [
       "<matplotlib.figure.Figure at 0x12a9698f390>"
      ]
     },
     "metadata": {},
     "output_type": "display_data"
    }
   ],
   "source": [
    "# plot posterior uncertainty/std\n",
    "# back tansform\n",
    "s_hat_real = np.exp(s_hat)\n",
    "post_std = np.sqrt(post_diagv)\n",
    "s_hat_upper = np.exp(s_hat + 1.96*post_std)\n",
    "s_hat_lower = np.exp(s_hat - 1.96*post_std)\n",
    "\n",
    "fig = plt.figure()\n",
    "plt.plot(x,s_hat_real,'k-',label='estimated')\n",
    "plt.plot(x,s_hat_upper,'k--',label='95%')\n",
    "plt.plot(x,s_hat_lower,'k--',label='')\n",
    "plt.plot(x,s_true,'r-',label='true')\n",
    "plt.legend()\n",
    "plt.title('Figure 1: Estimate with Bayesian credible interval')\n"
   ]
  },
  {
   "cell_type": "markdown",
   "metadata": {},
   "source": [
    "+ Plot observation mismatch"
   ]
  },
  {
   "cell_type": "code",
   "execution_count": 16,
   "metadata": {},
   "outputs": [
    {
     "data": {
      "text/plain": [
       "(-1, 3)"
      ]
     },
     "execution_count": 16,
     "metadata": {},
     "output_type": "execute_result"
    },
    {
     "data": {
      "image/png": "[encoded data removed]",
      "text/plain": [
       "<matplotlib.figure.Figure at 0x12a976396d8>"
      ]
     },
     "metadata": {},
     "output_type": "display_data"
    }
   ],
   "source": [
    "plt.title('Figure 2: obs. vs simul.')\n",
    "plt.plot(prob.obs, simul_obs, '.')\n",
    "plt.xlabel('observation')\n",
    "plt.ylabel('simulation')\n",
    "minobs = np.vstack((prob.obs, simul_obs)).min(0)\n",
    "maxobs = np.vstack((prob.obs, simul_obs)).max(0)\n",
    "plt.plot(np.linspace(minobs, maxobs, 20), np.linspace(minobs, maxobs, 20), 'k-')\n",
    "plt.axis('equal')\n",
    "axes = plt.gca()\n",
    "axes.set_xlim([math.floor(minobs), math.ceil(maxobs)])\n",
    "axes.set_ylim([math.floor(minobs), math.ceil(maxobs)])\n"
   ]
  }
 ],
 "metadata": {
  "kernelspec": {
   "display_name": "Python 3",
   "language": "python",
   "name": "python3"
  },
  "language_info": {
   "codemirror_mode": {
    "name": "ipython",
    "version": 3
   },
   "file_extension": ".py",
   "mimetype": "text/x-python",
   "name": "python",
   "nbconvert_exporter": "python",
   "pygments_lexer": "ipython3",
   "version": "3.6.4"
  }
 },
 "nbformat": 4,
 "nbformat_minor": 2
}
