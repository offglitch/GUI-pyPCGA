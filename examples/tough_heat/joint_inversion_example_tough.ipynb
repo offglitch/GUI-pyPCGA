{
 "cells": [
  {
   "cell_type": "markdown",
   "metadata": {},
   "source": [
    "# pyPCGA-TOUGH tutorial example - permeability estimation using pressure and temperature measurements\n",
    "\n",
    "## Problem description\n",
    "\n",
    "+ Domiain : 300 m x 100 m x 100 m \n",
    "+ 3000 (nx, ny, mz = 30, 30, 10) log-normal permability using Gaussian covariance kernel with scale parameter of [100,100,10] (m) \n",
    "+ Boundary conditions: injection-extraction system, warm water injected\n",
    "+ Simulation time: 374 days\n",
    "+ Number of unknowns: 3,000 permeabilities (pmx values)\n",
    "+ Measurements: pressure and temperature collected every 5 days at 128 monitoring locations between the injection and extraction well"
   ]
  },
  {
   "cell_type": "code",
   "execution_count": 1,
   "metadata": {},
   "outputs": [],
   "source": [
    "%matplotlib inline"
   ]
  },
  {
   "cell_type": "markdown",
   "metadata": {},
   "source": [
    "- Test environment"
   ]
  },
  {
   "cell_type": "code",
   "execution_count": 2,
   "metadata": {},
   "outputs": [
    {
     "name": "stdout",
     "output_type": "stream",
     "text": [
      "3.7.0 (default, Jun 28 2018, 13:15:42) \n",
      "[GCC 7.2.0]\n"
     ]
    }
   ],
   "source": [
    "import sys\n",
    "print(sys.version)"
   ]
  },
  {
   "cell_type": "code",
   "execution_count": 3,
   "metadata": {},
   "outputs": [
    {
     "name": "stdout",
     "output_type": "stream",
     "text": [
      "Linux-4.15.0-1021-aws-x86_64-with-debian-buster-sid\n"
     ]
    }
   ],
   "source": [
    "import platform\n",
    "print(platform.platform()) # ubuntu 18.04"
   ]
  },
  {
   "cell_type": "code",
   "execution_count": 4,
   "metadata": {},
   "outputs": [
    {
     "name": "stdout",
     "output_type": "stream",
     "text": [
      "1.15.1\n"
     ]
    }
   ],
   "source": [
    "import numpy as np\n",
    "print(np.__version__)"
   ]
  },
  {
   "cell_type": "code",
   "execution_count": 5,
   "metadata": {},
   "outputs": [
    {
     "name": "stdout",
     "output_type": "stream",
     "text": [
      "# of physcial CPU cores 36\n"
     ]
    }
   ],
   "source": [
    "import psutil\n",
    "print('# of physcial CPU cores %s' % (psutil.cpu_count(logical=False)))"
   ]
  },
  {
   "cell_type": "code",
   "execution_count": 6,
   "metadata": {},
   "outputs": [],
   "source": [
    "import matplotlib.pyplot as plt\n",
    "import numpy as np\n",
    "import tough\n",
    "from pyPCGA import PCGA\n",
    "import math\n",
    "import warnings; warnings.simplefilter('ignore')"
   ]
  },
  {
   "cell_type": "markdown",
   "metadata": {},
   "source": [
    "- forward model information: model domain, discretization, observation location and interval\n"
   ]
  },
  {
   "cell_type": "code",
   "execution_count": 7,
   "metadata": {},
   "outputs": [],
   "source": [
    "# forward model information: model domain, discretization, observation location and interval\n",
    "nx = [30, 10, 10]\n",
    "dx = [10., 10., 2.]\n",
    "\n",
    "# monitoring indices \n",
    "xlocs = np.arange(5,21,2)\n",
    "ylocs = np.array([1,3,5,7])\n",
    "zlocs = np.array([3,5,7,9])\n",
    "\n",
    "forward_model_params = {'nx':nx,'dx':dx, 'deletedir':False, 'xlocs': xlocs, 'ylocs':ylocs, 'zlocs':zlocs, \\\n",
    "    'obs_type':['Gas Pressure','Temperature'],'t_obs_interval':86400.*5.,\\\n",
    "    'max_timesteps': 9000, 'tstop': 0.32342126E+08, 'const_timestep': 6, 'max_timestep':86400, \\\n",
    "    'absolute_error': 1, 'relative_error': 5.e-6, 'print_interval': 9000, 'timestep_reduction': 3., \\\n",
    "    'gravity': 9.81,'default_incons': [100.e4, 10], \\\n",
    "    'multi_params':{'num_components': 1, 'num_equations':2, 'num_phases':2, 'num_secondary_parameters':6},\n",
    "    'solver_params':{'type': 5, 'z_precond':1,'o_precond': 0, 'relative_max_iterations':.8,'closure':1.e-7 },\n",
    "    'output_times_params': {'num_times_specified':2, 'time': [0.8640E+04, 0.32342126E+08]}}"
   ]
  },
  {
   "cell_type": "markdown",
   "metadata": {},
   "source": [
    "- true pmx values for comparison purpose"
   ]
  },
  {
   "cell_type": "code",
   "execution_count": 8,
   "metadata": {},
   "outputs": [],
   "source": [
    "s_true = np.loadtxt(\"true_30_10_10_gau.txt\")"
   ]
  },
  {
   "cell_type": "code",
   "execution_count": 9,
   "metadata": {},
   "outputs": [
    {
     "data": {
      "image/png": "[encoded data removed]",
      "text/plain": [
       "<Figure size 432x288 with 1 Axes>"
      ]
     },
     "metadata": {},
     "output_type": "display_data"
    },
    {
     "data": {
      "image/png": "[encoded data removed]",
      "text/plain": [
       "<Figure size 432x288 with 1 Axes>"
      ]
     },
     "metadata": {},
     "output_type": "display_data"
    },
    {
     "data": {
      "image/png": "[encoded data removed]",
      "text/plain": [
       "<Figure size 432x288 with 1 Axes>"
      ]
     },
     "metadata": {},
     "output_type": "display_data"
    }
   ],
   "source": [
    "s_true3d = s_true.reshape([nx[2],nx[1],nx[0]])\n",
    "for i in range(1,10,3):\n",
    "    plt.figure()\n",
    "    plt.pcolormesh(s_true3d[i,:,:],vmin=-2.0,vmax=1.5, cmap=plt.get_cmap('jet'))\n",
    "    plt.title('true ln(pmx) in layer %0d' %(i))\n",
    "    ax = plt.gca()\n",
    "    ax.set_aspect('equal', 'box')\n",
    "    ax.xaxis.set_ticks([])\n",
    "    ax.yaxis.set_ticks([])"
   ]
  },
  {
   "cell_type": "markdown",
   "metadata": {},
   "source": [
    "- PCGA parameters (m: # of unknowns, N, xmin, xmax: structure grid parameters, prior information)"
   ]
  },
  {
   "cell_type": "code",
   "execution_count": 10,
   "metadata": {},
   "outputs": [],
   "source": [
    "# dimension of unknown\n",
    "m = nx[0]*nx[1]*nx[2]\n",
    "N = np.array([nx[0],nx[1],nx[2]])\n",
    "xmin = np.array([0.,0.,0.])\n",
    "xmax = np.array([300.,100.,20.])\n",
    "pts = None # for regular grids, you don't need to specify pts. \n",
    "\n",
    "# covairance kernel and scale parameters\n",
    "prior_std = 0.7\n",
    "prior_cov_scale = np.array([100.0,100.0,10.0])\n",
    "\n",
    "def kernel(r): return (prior_std ** 2) * np.exp(-r**2)"
   ]
  },
  {
   "cell_type": "markdown",
   "metadata": {},
   "source": [
    "+ load noisy pressure and temperature measurements\n",
    "\n",
    "measurements were generated as\n",
    "\n",
    "```python\n",
    "\n",
    "obs_pres = simul_obs_pres + 10000.*np.random.randn(n_pres,1)  # error std = 1000 Pa for pressure\n",
    "obs_temp = simul_obs_temp + .5*np.random.randn(n_temp,1)  # error std = 0.5 C for pressure\n",
    "```\n",
    "\n",
    "where simul_obs_pres and simul_obs_temp are simulated pressure and temperature at the monitoring ports, respectively"
   ]
  },
  {
   "cell_type": "code",
   "execution_count": 11,
   "metadata": {},
   "outputs": [],
   "source": [
    "# load noisy observations\n",
    "obs = np.loadtxt('obs.txt')\n",
    "nobs = obs.shape[0]\n",
    "\n",
    "# joint inversion prior error level\n",
    "std_obs = np.ones_like(obs)\n",
    "std_obs[:7400]=1000.\n",
    "std_obs[7400:]=0.5"
   ]
  },
  {
   "cell_type": "markdown",
   "metadata": {},
   "source": [
    "+ Define a wrapper for a black-box forward model input in pyPCGA\n",
    "\n",
    "#### 1. Note that one should follow this wrapper format to work with pyPCGA\n",
    "#### 2. If parallelization == True, it should take multiple columns of s and run the forward problem independently in parallel\n",
    "#### 3. Please see tough.py as a template for inplementation"
   ]
  },
  {
   "cell_type": "code",
   "execution_count": 12,
   "metadata": {},
   "outputs": [],
   "source": [
    "# forward model wrapper for pyPCGA\n",
    "def forward_model(s, parallelization, ncores=None):\n",
    "    model = tough.Model(forward_model_params)\n",
    "\n",
    "    if parallelization:\n",
    "        simul_obs = model.run(s, parallelization, ncores)\n",
    "    else:\n",
    "        simul_obs = model.run(s, parallelization)\n",
    "    return simul_obs"
   ]
  },
  {
   "cell_type": "markdown",
   "metadata": {},
   "source": [
    "- PCGA inversion parameters"
   ]
  },
  {
   "cell_type": "code",
   "execution_count": 13,
   "metadata": {},
   "outputs": [],
   "source": [
    "params = {'R': std_obs** 2, 'n_pc': 30,\n",
    "        'maxiter': 3, 'restol': 0.6,\n",
    "        'matvec': 'FFT', 'xmin': xmin, 'xmax': xmax, 'N': N,\n",
    "        'prior_std': prior_std, 'prior_cov_scale': prior_cov_scale,\n",
    "        'kernel': kernel, 'post_cov': \"diag\",\n",
    "        'precond': True, 'LM': True,\n",
    "        'parallel': True, 'linesearch': True, 'precision': 2e-3,\n",
    "        'forward_model_verbose': False, 'verbose': False,\n",
    "        'iter_save': True, 'ncores':6}\n",
    "\n",
    "# params['objeval'] = False, if true, it will compute accurate objective function"
   ]
  },
  {
   "cell_type": "markdown",
   "metadata": {},
   "source": [
    "- initial guess"
   ]
  },
  {
   "cell_type": "code",
   "execution_count": 14,
   "metadata": {},
   "outputs": [],
   "source": [
    "s_init = np.mean(s_true) * np.ones((m, 1))"
   ]
  },
  {
   "cell_type": "markdown",
   "metadata": {},
   "source": [
    "## Inversion \n",
    "\n",
    "- initialize pyPCGA"
   ]
  },
  {
   "cell_type": "code",
   "execution_count": 15,
   "metadata": {},
   "outputs": [
    {
     "name": "stdout",
     "output_type": "stream",
     "text": [
      "##### PCGA Inversion #####\n",
      "##### 1. Initialize forward and inversion parameters\n",
      "------------ Inversion Parameters -------------------------\n",
      "   Number of unknowns                               : 3000\n",
      "   Number of observations                           : 14800\n",
      "   Number of principal components (n_pc)            : 30\n",
      "   Prior model                                      : def kernel(r): return (prior_std ** 2) * np.exp(-r**2)\n",
      "\n",
      "   Prior variance                                   : 4.900000e-01\n",
      "   Prior scale (correlation) parameter              : [100. 100.  10.]\n",
      "   Posterior cov computation                        : diag\n",
      "   Posterior variance computation                   : Approx.\n",
      "   Number of CPU cores (n_core)                     : 6\n",
      "   Maximum GN iterations                            : 3\n",
      "   machine precision (delta = sqrt(precision))      : 2.000000e-03\n",
      "   Tol for iterations (norm(sol_diff)/norm(sol))    : 6.000000e-01\n",
      "   Levenberg-Marquardt (LM)                         : True\n",
      "   LM solution range constraints (LM_smin, LM_smax) : None, None\n",
      "   Line search                                      : True\n",
      "-----------------------------------------------------------\n"
     ]
    }
   ],
   "source": [
    "# initialize\n",
    "prob = PCGA(forward_model, s_init, pts, params, s_true, obs)"
   ]
  },
  {
   "cell_type": "markdown",
   "metadata": {},
   "source": [
    "- run pyPCGA"
   ]
  },
  {
   "cell_type": "code",
   "execution_count": 16,
   "metadata": {
    "scrolled": true
   },
   "outputs": [
    {
     "name": "stdout",
     "output_type": "stream",
     "text": [
      "##### 2. Construct Prior Covariance Matrix\n",
      "- time for covariance matrix construction (m = 3000) is 0 sec\n",
      "##### 3. Eigendecomposition of Prior Covariance\n",
      "- time for eigendecomposition with k = 30 is 0 sec\n",
      "- 1st eigv : 369.519, 30-th eigv : 2.52487, ratio: 0.00683285\n",
      "##### 4. Start PCGA Inversion #####\n",
      "-- evaluate initial solution\n",
      "obs. RMSE (norm(obs. diff.)/sqrt(nobs)): 154474, normalized obs. RMSE (norm(obs. diff./sqrtR)/sqrt(nobs)): 154.602\n",
      "***** Iteration 1 ******\n",
      "computed Jacobian-Matrix products in 139.933877 secs\n",
      "solve saddle point (co-kriging) systems with Levenberg-Marquardt\n",
      "evaluate LM solutions\n",
      "LM solution evaluted\n",
      "- Geostat. inversion at iteration 1 is 164 sec\n",
      "== iteration 1 summary ==\n",
      "= objective function is 6.382210e+07, relative L2-norm diff btw sol 0 and sol 1 is 24.3275\n",
      "= L2-norm error (w.r.t truth) is 79.736, obs. RMSE is 92833.5, obs. normalized RMSE is 92.8688\n",
      "- save results in text at iteration 1\n",
      "***** Iteration 2 ******\n",
      "computed Jacobian-Matrix products in 137.223684 secs\n",
      "solve saddle point (co-kriging) systems with Levenberg-Marquardt\n",
      "evaluate LM solutions\n",
      "LM solution evaluted\n",
      "- Geostat. inversion at iteration 2 is 164 sec\n",
      "== iteration 2 summary ==\n",
      "= objective function is 6.278530e+05, relative L2-norm diff btw sol 1 and sol 2 is 0.794698\n",
      "= L2-norm error (w.r.t truth) is 84.7643, obs. RMSE is 9132.37, obs. normalized RMSE is 9.21096\n",
      "- save results in text at iteration 2\n",
      "***** Iteration 3 ******\n",
      "computed Jacobian-Matrix products in 137.983859 secs\n",
      "solve saddle point (co-kriging) systems with Levenberg-Marquardt\n",
      "evaluate LM solutions\n",
      "LM solution evaluted\n",
      "- Geostat. inversion at iteration 3 is 162 sec\n",
      "== iteration 3 summary ==\n",
      "= objective function is 4.080623e+05, relative L2-norm diff btw sol 2 and sol 3 is 0.503219\n",
      "= L2-norm error (w.r.t truth) is 92.882, obs. RMSE is 7349.22, obs. normalized RMSE is 7.42545\n",
      "- save results in text at iteration 3\n",
      "start posterior variance computation\n",
      "posterior diag. computed in 3.246672 secs\n",
      "------------ Inversion Summary ---------------------------\n",
      "** Found solution at iteration 3\n",
      "** Solution obs. RMSE 7349.22 , initial obs. RMSE 154474, where RMSE = (norm(obs. diff.)/sqrt(nobs)), Solution obs. nRMSE 7.42545, init. obs. nRMSE 154.602\n",
      "** Final objective function value is 4.080623e+05\n",
      "** Final predictive model checking Q2, cR is 8.399792e-01, 8.197448e+02\n",
      "** Total elapsed time is 515.687284 secs\n",
      "----------------------------------------------------------\n"
     ]
    }
   ],
   "source": [
    "# run inversion\n",
    "s_hat, simul_obs, post_diagv, iter_best = prob.Run()"
   ]
  },
  {
   "cell_type": "code",
   "execution_count": 17,
   "metadata": {},
   "outputs": [],
   "source": [
    "post_std = np.sqrt(post_diagv)\n",
    "\n",
    "s_hat3d = s_hat.reshape([nx[2],nx[1],nx[0]])\n",
    "post_std = post_std.reshape([nx[2],nx[1],nx[0]])\n",
    "\n",
    "from mpl_toolkits.axes_grid1 import make_axes_locatable"
   ]
  },
  {
   "cell_type": "code",
   "execution_count": 18,
   "metadata": {},
   "outputs": [
    {
     "data": {
      "image/png": "[encoded data removed]",
      "text/plain": [
       "<Figure size 432x288 with 2 Axes>"
      ]
     },
     "metadata": {},
     "output_type": "display_data"
    },
    {
     "data": {
      "image/png": "[encoded data removed]",
      "text/plain": [
       "<Figure size 432x288 with 2 Axes>"
      ]
     },
     "metadata": {
      "needs_background": "light"
     },
     "output_type": "display_data"
    },
    {
     "data": {
      "image/png": "[encoded data removed]",
      "text/plain": [
       "<Figure size 432x288 with 2 Axes>"
      ]
     },
     "metadata": {},
     "output_type": "display_data"
    },
    {
     "data": {
      "image/png": "[encoded data removed]",
      "text/plain": [
       "<Figure size 432x288 with 2 Axes>"
      ]
     },
     "metadata": {
      "needs_background": "light"
     },
     "output_type": "display_data"
    },
    {
     "data": {
      "image/png": "[encoded data removed]",
      "text/plain": [
       "<Figure size 432x288 with 2 Axes>"
      ]
     },
     "metadata": {},
     "output_type": "display_data"
    },
    {
     "data": {
      "image/png": "[encoded data removed]",
      "text/plain": [
       "<Figure size 432x288 with 2 Axes>"
      ]
     },
     "metadata": {
      "needs_background": "light"
     },
     "output_type": "display_data"
    }
   ],
   "source": [
    "for i in range(1,10,3):\n",
    "    fig, ax = plt.subplots(nrows=2,ncols=1,sharex=True)\n",
    "    ax[0].pcolormesh(s_true3d[i,:,:],vmin=-2.0,vmax=1.5, cmap=plt.get_cmap('jet'))\n",
    "    ax[0].set_title('true ln(pmx) in layer %0d' %(i))\n",
    "    ax[0].xaxis.set_ticks([])\n",
    "    ax[0].yaxis.set_ticks([])\n",
    "    ax[1].pcolormesh(s_hat3d[i,:,:],vmin=-2.0,vmax= 1.5, cmap=plt.get_cmap('jet'))\n",
    "    ax[1].set_title('estimated ln(pmx) in layer %0d' %(i))\n",
    "    ax[1].xaxis.set_ticks([])\n",
    "    ax[1].yaxis.set_ticks([])\n",
    "    \n",
    "    fig = plt.figure()\n",
    "    ax = plt.gca()\n",
    "    im = plt.pcolor(post_std[i,:,:], cmap=plt.get_cmap('jet'))\n",
    "    plt.title('Uncertainty (posterior std) in lnK estimate, layer %d' % (i))\n",
    "    divider = make_axes_locatable(ax)\n",
    "    cax = divider.append_axes(\"right\", size=\"5%\", pad=0.05)\n",
    "    plt.colorbar(im, cax=cax)\n",
    "    ax.set_aspect('equal', 'box')\n",
    "    "
   ]
  },
  {
   "cell_type": "code",
   "execution_count": 19,
   "metadata": {},
   "outputs": [
    {
     "data": {
      "text/plain": [
       "[None, None]"
      ]
     },
     "execution_count": 19,
     "metadata": {},
     "output_type": "execute_result"
    },
    {
     "data": {
      "image/png": "[encoded data removed]",
      "text/plain": [
       "<Figure size 432x288 with 2 Axes>"
      ]
     },
     "metadata": {
      "needs_background": "light"
     },
     "output_type": "display_data"
    }
   ],
   "source": [
    "interval_pres = 1000000\n",
    "interval_temp = 10\n",
    "nobs = obs.shape[0]\n",
    "fig, ax = plt.subplots(nrows=1,ncols=2)\n",
    "\n",
    "obs_pres = obs[:7400]\n",
    "simul_obs_pres = simul_obs[:7400]\n",
    "obs_temp = obs[7400:]\n",
    "simul_obs_temp = simul_obs[7400:]\n",
    "\n",
    "from matplotlib.ticker import FormatStrFormatter\n",
    "\n",
    "ax[0].plot(obs_pres,simul_obs_pres,'.')\n",
    "ax[0].set_xlabel('observation')\n",
    "ax[0].set_ylabel('simulation')\n",
    "ax[0].set_title('pressure')\n",
    "minobs = np.vstack((obs_pres.reshape(-1), simul_obs_pres.reshape(-1))).reshape(-1).min()\n",
    "maxobs = np.vstack((obs_pres.reshape(-1), simul_obs_pres.reshape(-1))).reshape(-1).max()\n",
    "xmin, xmax = math.floor(minobs/interval_pres)*interval_pres, math.ceil(maxobs/interval_pres)*interval_pres\n",
    "ax[0].plot(np.linspace(xmin, xmax, 20), np.linspace(xmin, xmax, 20), 'k-')\n",
    "ax[0].set_xlim([xmin,xmax])\n",
    "ax[0].set_ylim([xmin,xmax])\n",
    "ax[0].xaxis.set_ticks(np.linspace(xmin,xmax,int(xmax/interval_pres)+1))\n",
    "ax[0].yaxis.set_ticks(np.linspace(xmin,xmax,int(xmax/interval_pres)+1))\n",
    "ax[0].xaxis.set_major_formatter(FormatStrFormatter('%.0e'))\n",
    "ax[0].yaxis.set_major_formatter(FormatStrFormatter('%.0e'))\n",
    "ax[0].set(adjustable='box', aspect='equal')\n",
    "\n",
    "ax[1].plot(obs_temp,simul_obs_temp,'.')\n",
    "ax[1].set_xlabel('observation')\n",
    "ax[1].set_ylabel('simulation')\n",
    "ax[1].set_title('temperature')\n",
    "minobs = np.vstack((obs_temp.reshape(-1), simul_obs_temp.reshape(-1))).reshape(-1).min()\n",
    "maxobs = np.vstack((obs_temp.reshape(-1), simul_obs_temp.reshape(-1))).reshape(-1).max()\n",
    "xmin, xmax = math.floor(minobs/interval_temp)*interval_temp, math.ceil(maxobs/interval_temp)*interval_temp\n",
    "ax[1].plot(np.linspace(xmin, xmax, 20), np.linspace(xmin, xmax, 20), 'k-')\n",
    "ax[1].set_xlim([xmin,xmax])\n",
    "ax[1].set_ylim([xmin,xmax])\n",
    "ax[1].xaxis.set_ticks(np.linspace(xmin,xmax,int(xmax/interval_temp)+1))\n",
    "ax[1].yaxis.set_ticks(np.linspace(xmin,xmax,int(xmax/interval_temp)+1))\n",
    "ax[1].set(adjustable='box', aspect='equal')\n"
   ]
  },
  {
   "cell_type": "code",
   "execution_count": 20,
   "metadata": {},
   "outputs": [
    {
     "data": {
      "text/plain": [
       "(0.9, 3.1, 316967.16050247126, 82164329.01137531)"
      ]
     },
     "execution_count": 20,
     "metadata": {},
     "output_type": "execute_result"
    },
    {
     "data": {
      "image/png": "[encoded data removed]",
      "text/plain": [
       "<Figure size 432x288 with 1 Axes>"
      ]
     },
     "metadata": {
      "needs_background": "light"
     },
     "output_type": "display_data"
    }
   ],
   "source": [
    "plt.semilogy(np.linspace(1,len(prob.objvals),len(prob.objvals)), prob.objvals, 'r-')\n",
    "plt.xticks(np.linspace(1,len(prob.objvals),len(prob.objvals)))\n",
    "plt.title('obj values over iterations')\n",
    "plt.axis('tight')"
   ]
  }
 ],
 "metadata": {
  "anaconda-cloud": {},
  "kernelspec": {
   "display_name": "Python 3",
   "language": "python",
   "name": "python3"
  },
  "language_info": {
   "codemirror_mode": {
    "name": "ipython",
    "version": 3
   },
   "file_extension": ".py",
   "mimetype": "text/x-python",
   "name": "python",
   "nbconvert_exporter": "python",
   "pygments_lexer": "ipython3",
   "version": "3.7.0"
  }
 },
 "nbformat": 4,
 "nbformat_minor": 1
}
